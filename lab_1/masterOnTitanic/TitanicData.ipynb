{
 "cells": [
  {
   "cell_type": "markdown",
   "source": [],
   "metadata": {
    "collapsed": false
   }
  },
  {
   "cell_type": "markdown",
   "source": [
    "### Не умереть на Титанике\n",
    "Пытаясь найти Доктора Кто в обозримой вселенной, Мастер оказывается в практически безвыходной ситуации. У машины времени Мастера кончилась энергия, из-за чего она переместилась в случайное время и пространство, которым оказался Титаник в момент его гибели. У Мастера есть аппарат, позволяющий полностью поменять свою внешность, однако, тот частично не исправен.\n"
   ],
   "metadata": {
    "collapsed": false
   }
  },
  {
   "cell_type": "code",
   "execution_count": 42,
   "outputs": [
    {
     "data": {
      "text/plain": "     PassengerId  Survived  Pclass  \\\n0              1         0       3   \n1              2         1       1   \n2              3         1       3   \n3              4         1       1   \n4              5         0       3   \n..           ...       ...     ...   \n886          887         0       2   \n887          888         1       1   \n888          889         0       3   \n889          890         1       1   \n890          891         0       3   \n\n                                                  Name     Sex   Age  SibSp  \\\n0                              Braund, Mr. Owen Harris    male  22.0      1   \n1    Cumings, Mrs. John Bradley (Florence Briggs Th...  female  38.0      1   \n2                               Heikkinen, Miss. Laina  female  26.0      0   \n3         Futrelle, Mrs. Jacques Heath (Lily May Peel)  female  35.0      1   \n4                             Allen, Mr. William Henry    male  35.0      0   \n..                                                 ...     ...   ...    ...   \n886                              Montvila, Rev. Juozas    male  27.0      0   \n887                       Graham, Miss. Margaret Edith  female  19.0      0   \n888           Johnston, Miss. Catherine Helen \"Carrie\"  female   NaN      1   \n889                              Behr, Mr. Karl Howell    male  26.0      0   \n890                                Dooley, Mr. Patrick    male  32.0      0   \n\n     Parch            Ticket     Fare Cabin Embarked  \n0        0         A/5 21171   7.2500   NaN        S  \n1        0          PC 17599  71.2833   C85        C  \n2        0  STON/O2. 3101282   7.9250   NaN        S  \n3        0            113803  53.1000  C123        S  \n4        0            373450   8.0500   NaN        S  \n..     ...               ...      ...   ...      ...  \n886      0            211536  13.0000   NaN        S  \n887      0            112053  30.0000   B42        S  \n888      2        W./C. 6607  23.4500   NaN        S  \n889      0            111369  30.0000  C148        C  \n890      0            370376   7.7500   NaN        Q  \n\n[891 rows x 12 columns]",
      "text/html": "<div>\n<style scoped>\n    .dataframe tbody tr th:only-of-type {\n        vertical-align: middle;\n    }\n\n    .dataframe tbody tr th {\n        vertical-align: top;\n    }\n\n    .dataframe thead th {\n        text-align: right;\n    }\n</style>\n<table border=\"1\" class=\"dataframe\">\n  <thead>\n    <tr style=\"text-align: right;\">\n      <th></th>\n      <th>PassengerId</th>\n      <th>Survived</th>\n      <th>Pclass</th>\n      <th>Name</th>\n      <th>Sex</th>\n      <th>Age</th>\n      <th>SibSp</th>\n      <th>Parch</th>\n      <th>Ticket</th>\n      <th>Fare</th>\n      <th>Cabin</th>\n      <th>Embarked</th>\n    </tr>\n  </thead>\n  <tbody>\n    <tr>\n      <th>0</th>\n      <td>1</td>\n      <td>0</td>\n      <td>3</td>\n      <td>Braund, Mr. Owen Harris</td>\n      <td>male</td>\n      <td>22.0</td>\n      <td>1</td>\n      <td>0</td>\n      <td>A/5 21171</td>\n      <td>7.2500</td>\n      <td>NaN</td>\n      <td>S</td>\n    </tr>\n    <tr>\n      <th>1</th>\n      <td>2</td>\n      <td>1</td>\n      <td>1</td>\n      <td>Cumings, Mrs. John Bradley (Florence Briggs Th...</td>\n      <td>female</td>\n      <td>38.0</td>\n      <td>1</td>\n      <td>0</td>\n      <td>PC 17599</td>\n      <td>71.2833</td>\n      <td>C85</td>\n      <td>C</td>\n    </tr>\n    <tr>\n      <th>2</th>\n      <td>3</td>\n      <td>1</td>\n      <td>3</td>\n      <td>Heikkinen, Miss. Laina</td>\n      <td>female</td>\n      <td>26.0</td>\n      <td>0</td>\n      <td>0</td>\n      <td>STON/O2. 3101282</td>\n      <td>7.9250</td>\n      <td>NaN</td>\n      <td>S</td>\n    </tr>\n    <tr>\n      <th>3</th>\n      <td>4</td>\n      <td>1</td>\n      <td>1</td>\n      <td>Futrelle, Mrs. Jacques Heath (Lily May Peel)</td>\n      <td>female</td>\n      <td>35.0</td>\n      <td>1</td>\n      <td>0</td>\n      <td>113803</td>\n      <td>53.1000</td>\n      <td>C123</td>\n      <td>S</td>\n    </tr>\n    <tr>\n      <th>4</th>\n      <td>5</td>\n      <td>0</td>\n      <td>3</td>\n      <td>Allen, Mr. William Henry</td>\n      <td>male</td>\n      <td>35.0</td>\n      <td>0</td>\n      <td>0</td>\n      <td>373450</td>\n      <td>8.0500</td>\n      <td>NaN</td>\n      <td>S</td>\n    </tr>\n    <tr>\n      <th>...</th>\n      <td>...</td>\n      <td>...</td>\n      <td>...</td>\n      <td>...</td>\n      <td>...</td>\n      <td>...</td>\n      <td>...</td>\n      <td>...</td>\n      <td>...</td>\n      <td>...</td>\n      <td>...</td>\n      <td>...</td>\n    </tr>\n    <tr>\n      <th>886</th>\n      <td>887</td>\n      <td>0</td>\n      <td>2</td>\n      <td>Montvila, Rev. Juozas</td>\n      <td>male</td>\n      <td>27.0</td>\n      <td>0</td>\n      <td>0</td>\n      <td>211536</td>\n      <td>13.0000</td>\n      <td>NaN</td>\n      <td>S</td>\n    </tr>\n    <tr>\n      <th>887</th>\n      <td>888</td>\n      <td>1</td>\n      <td>1</td>\n      <td>Graham, Miss. Margaret Edith</td>\n      <td>female</td>\n      <td>19.0</td>\n      <td>0</td>\n      <td>0</td>\n      <td>112053</td>\n      <td>30.0000</td>\n      <td>B42</td>\n      <td>S</td>\n    </tr>\n    <tr>\n      <th>888</th>\n      <td>889</td>\n      <td>0</td>\n      <td>3</td>\n      <td>Johnston, Miss. Catherine Helen \"Carrie\"</td>\n      <td>female</td>\n      <td>NaN</td>\n      <td>1</td>\n      <td>2</td>\n      <td>W./C. 6607</td>\n      <td>23.4500</td>\n      <td>NaN</td>\n      <td>S</td>\n    </tr>\n    <tr>\n      <th>889</th>\n      <td>890</td>\n      <td>1</td>\n      <td>1</td>\n      <td>Behr, Mr. Karl Howell</td>\n      <td>male</td>\n      <td>26.0</td>\n      <td>0</td>\n      <td>0</td>\n      <td>111369</td>\n      <td>30.0000</td>\n      <td>C148</td>\n      <td>C</td>\n    </tr>\n    <tr>\n      <th>890</th>\n      <td>891</td>\n      <td>0</td>\n      <td>3</td>\n      <td>Dooley, Mr. Patrick</td>\n      <td>male</td>\n      <td>32.0</td>\n      <td>0</td>\n      <td>0</td>\n      <td>370376</td>\n      <td>7.7500</td>\n      <td>NaN</td>\n      <td>Q</td>\n    </tr>\n  </tbody>\n</table>\n<p>891 rows × 12 columns</p>\n</div>"
     },
     "execution_count": 42,
     "metadata": {},
     "output_type": "execute_result"
    }
   ],
   "source": [
    "import pandas as pd\n",
    "import numpy as np\n",
    "\n",
    "df = pd.read_csv('train.csv')\n",
    "\n",
    "df"
   ],
   "metadata": {
    "collapsed": false
   }
  },
  {
   "cell_type": "markdown",
   "source": [
    "### Получение знаний\n",
    "Мастер ничего не знает о Титанике, поэтому для начала он хочет получить какие-то базовые знания - и увидеть базовые закономерности."
   ],
   "metadata": {
    "collapsed": false
   }
  },
  {
   "cell_type": "code",
   "execution_count": 43,
   "outputs": [
    {
     "name": "stdout",
     "output_type": "stream",
     "text": [
      "Всего было женщин: 314\n",
      "Выжило: 233 Умерло: 81\n",
      "Всего было мужчин: 577\n",
      "Выжило: 109 Умерло: 468\n"
     ]
    }
   ],
   "source": [
    "gender_female = df[(df[\"Sex\"])==\"female\"]\n",
    "\n",
    "gender_female_survived = len(gender_female[(gender_female[\"Survived\"])==1])\n",
    "gender_female_dead = len(gender_female) - gender_female_survived\n",
    "\n",
    "print(\"Всего было женщин: \" + str(len(gender_female)))\n",
    "print(\"Выжило: \" + str(gender_female_survived) + \" Умерло: \" + str(gender_female_dead))\n",
    "\n",
    "###Теперь посчитаем, сколько выжило мужчин\n",
    "\n",
    "gender_male = df[(df[\"Sex\"])==\"male\"]\n",
    "\n",
    "gender_male_survived = len(gender_male[(gender_male[\"Survived\"])==1])\n",
    "gender_male_dead = len(gender_male) - gender_male_survived\n",
    "\n",
    "print(\"Всего было мужчин: \" + str(len(gender_male)))\n",
    "print(\"Выжило: \" + str(gender_male_survived) + \" Умерло: \" + str(gender_male_dead))"
   ],
   "metadata": {
    "collapsed": false
   }
  },
  {
   "cell_type": "code",
   "execution_count": 44,
   "outputs": [
    {
     "name": "stdout",
     "output_type": "stream",
     "text": [
      "Всего было пассажиров в первом классе: 216\n",
      "Выжило: 136 Умерло: 80\n",
      "Всего было пассажиров во втором классе: 184\n",
      "Выжило: 87 Умерло: 97\n",
      "Всего было пассажиров в третьем классе: 491\n",
      "Выжило: 119 Умерло: 372\n"
     ]
    }
   ],
   "source": [
    "#Первый класс\n",
    "passenger_first_class = df[(df[\"Pclass\"])==1]\n",
    "\n",
    "passenger_first_class_survived = len(passenger_first_class[(passenger_first_class[\"Survived\"])==1])\n",
    "passenger_first_class_dead = len(passenger_first_class) - passenger_first_class_survived\n",
    "\n",
    "print(\"Всего было пассажиров в первом классе: \" + str(len(passenger_first_class)))\n",
    "print(\"Выжило: \" + str(passenger_first_class_survived) + \" Умерло: \" + str(passenger_first_class_dead))\n",
    "\n",
    "#Второй класс\n",
    "\n",
    "passenger_second_class = df[(df[\"Pclass\"])==2]\n",
    "\n",
    "passenger_second_class_survived = len(passenger_second_class[(passenger_second_class[\"Survived\"])==1])\n",
    "passenger_second_class_dead = len(passenger_second_class) - passenger_second_class_survived\n",
    "\n",
    "print(\"Всего было пассажиров во втором классе: \" + str(len(passenger_second_class)))\n",
    "print(\"Выжило: \" + str(passenger_second_class_survived) + \" Умерло: \" + str(passenger_second_class_dead))\n",
    "\n",
    "#Третий класс\n",
    "\n",
    "passenger_third_class = df[(df[\"Pclass\"])==3]\n",
    "\n",
    "passenger_third_class_survived = len(passenger_third_class[(passenger_third_class[\"Survived\"])==1])\n",
    "passenger_third_class_dead = len(passenger_third_class) - passenger_third_class_survived\n",
    "\n",
    "print(\"Всего было пассажиров в третьем классе: \" + str(len(passenger_third_class)))\n",
    "print(\"Выжило: \" + str(passenger_third_class_survived) + \" Умерло: \" + str(passenger_third_class_dead))"
   ],
   "metadata": {
    "collapsed": false
   }
  },
  {
   "cell_type": "markdown",
   "source": [
    "Ради интереса Мастер решил посмотреть, а какой состав выживших женщин и мужчин, выживших в первом классе"
   ],
   "metadata": {
    "collapsed": false
   }
  },
  {
   "cell_type": "code",
   "execution_count": 45,
   "outputs": [
    {
     "name": "stdout",
     "output_type": "stream",
     "text": [
      "Всего выжило пассажиров в первом классе: 136\n",
      "ВЫЖИЛО:\n",
      "Мужчин: 45 Женщин: 91\n",
      "ВСЕГО БЫЛО\n",
      "Мужчин: 122 Женщин: 94\n",
      "\n",
      "Всего выжило пассажиров во втором классе: 87\n",
      "ВЫЖИЛО:\n",
      "Мужчин: 17 Женщин: 70\n",
      "ВСЕГО БЫЛО\n",
      "Мужчин: 108 Женщин: 76\n",
      "\n",
      "Всего выжило пассажиров в третьем классе: 119\n",
      "ВЫЖИЛО:\n",
      "Мужчин: 47 Женщин: 72\n",
      "ВСЕГО БЫЛО\n",
      "Мужчин: 347 Женщин: 144\n"
     ]
    }
   ],
   "source": [
    "passenger_first_class_survived_male = len(passenger_first_class[((passenger_first_class[\"Survived\"])==1) &\n",
    "                                                            ((passenger_first_class[\"Sex\"])==\"male\")])\n",
    "\n",
    "passenger_first_class_survived_female = passenger_first_class_survived - passenger_first_class_survived_male\n",
    "\n",
    "gender_female_first_class = len(passenger_first_class[(passenger_first_class[\"Sex\"]==\"female\")])\n",
    "gender_male_first_class = len(passenger_first_class) - gender_female_first_class\n",
    "\n",
    "print(\"Всего выжило пассажиров в первом классе: \" + str(passenger_first_class_survived))\n",
    "print(\"ВЫЖИЛО:\")\n",
    "print(\"Мужчин: \" + str(passenger_first_class_survived_male) + \" Женщин: \" + str(passenger_first_class_survived_female))\n",
    "print(\"ВСЕГО БЫЛО\")\n",
    "print(\"Мужчин: \" + str(gender_male_first_class) + \" Женщин: \" + str(gender_female_first_class))\n",
    "print(\"\")\n",
    "\n",
    "#Второй класс\n",
    "\n",
    "passenger_second_class_survived_male = len(passenger_second_class[((passenger_second_class[\"Survived\"])==1) &\n",
    "                                                                ((passenger_second_class[\"Sex\"])==\"male\")])\n",
    "\n",
    "passenger_second_class_survived_female = passenger_second_class_survived - passenger_second_class_survived_male\n",
    "\n",
    "gender_female_second_class = len(passenger_second_class[(passenger_second_class[\"Sex\"]==\"female\")])\n",
    "gender_male_second_class = len(passenger_second_class) - gender_female_second_class\n",
    "\n",
    "print(\"Всего выжило пассажиров во втором классе: \" + str(passenger_second_class_survived))\n",
    "print(\"ВЫЖИЛО:\")\n",
    "print(\"Мужчин: \" + str(passenger_second_class_survived_male) + \" Женщин: \" + str(passenger_second_class_survived_female))\n",
    "print(\"ВСЕГО БЫЛО\")\n",
    "print(\"Мужчин: \" + str(gender_male_second_class) + \" Женщин: \" + str(gender_female_second_class))\n",
    "print(\"\")\n",
    "\n",
    "#Третий класс\n",
    "\n",
    "passenger_third_class_survived_male = len(passenger_third_class[((passenger_third_class[\"Survived\"])==1) &\n",
    "                                                                ((passenger_third_class[\"Sex\"])==\"male\")])\n",
    "\n",
    "passenger_third_class_survived_female = passenger_third_class_survived - passenger_third_class_survived_male\n",
    "\n",
    "gender_female_third_class = len(passenger_third_class[(passenger_third_class[\"Sex\"]==\"female\")])\n",
    "gender_male_third_class = len(passenger_third_class) - gender_female_third_class\n",
    "\n",
    "print(\"Всего выжило пассажиров в третьем классе: \" + str(passenger_third_class_survived))\n",
    "print(\"ВЫЖИЛО:\")\n",
    "print(\"Мужчин: \" + str(passenger_third_class_survived_male) + \" Женщин: \" + str(passenger_third_class_survived_female))\n",
    "print(\"ВСЕГО БЫЛО\")\n",
    "print(\"Мужчин: \" + str(gender_male_third_class) + \" Женщин: \" + str(gender_female_third_class))\n"
   ],
   "metadata": {
    "collapsed": false
   }
  },
  {
   "cell_type": "markdown",
   "source": [
    "Уже на данный момент Мастеру приблизительно понятно, к чему нужно стремиться и на чем основываться - теперь осталось обучить модель"
   ],
   "metadata": {
    "collapsed": false
   }
  }
 ],
 "metadata": {
  "kernelspec": {
   "display_name": "Python 3",
   "language": "python",
   "name": "python3"
  },
  "language_info": {
   "codemirror_mode": {
    "name": "ipython",
    "version": 2
   },
   "file_extension": ".py",
   "mimetype": "text/x-python",
   "name": "python",
   "nbconvert_exporter": "python",
   "pygments_lexer": "ipython2",
   "version": "2.7.6"
  }
 },
 "nbformat": 4,
 "nbformat_minor": 0
}

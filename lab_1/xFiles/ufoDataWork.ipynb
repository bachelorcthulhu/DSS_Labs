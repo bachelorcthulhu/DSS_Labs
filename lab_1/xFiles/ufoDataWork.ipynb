{
 "cells": [
  {
   "cell_type": "markdown",
   "source": [
    "### Предчувствие агента Купера\n",
    "Агента Купера перевели к Фоксу Малдеру и Дане Скалли. Агент Купер может чудесным образом, какие из сообщений о появлении НЛО настоящие. Так как его методики никто не понимает, Купера попросили облачить его познания в систему принятия решений, чем он и занялся."
   ],
   "metadata": {
    "collapsed": false
   }
  },
  {
   "cell_type": "code",
   "execution_count": 1,
   "outputs": [
    {
     "name": "stderr",
     "output_type": "stream",
     "text": [
      "C:\\Users\\bache\\AppData\\Local\\Temp\\ipykernel_15620\\2037468117.py:6: DtypeWarning: Columns (5,9) have mixed types. Specify dtype option on import or set low_memory=False.\n",
      "  df = pd.read_csv('complete.csv',on_bad_lines='skip')\n"
     ]
    },
    {
     "data": {
      "text/plain": "               datetime                  city state country     shape  \\\n0      10/10/1949 20:30            san marcos    tx      us  cylinder   \n1      10/10/1949 21:00          lackland afb    tx     NaN     light   \n2      10/10/1955 17:00  chester (uk/england)   NaN      gb    circle   \n3      10/10/1956 21:00                  edna    tx      us    circle   \n4      10/10/1960 20:00               kaneohe    hi      us     light   \n...                 ...                   ...   ...     ...       ...   \n88674    9/9/2013 22:00                  napa    ca      us     other   \n88675    9/9/2013 22:20                vienna    va      us    circle   \n88676    9/9/2013 23:00                edmond    ok      us     cigar   \n88677    9/9/2013 23:00                 starr    sc      us   diamond   \n88678    9/9/2013 23:30        ft. lauderdale    fl      us      oval   \n\n      duration (seconds) duration (hours/min)  \\\n0                   2700           45 minutes   \n1                   7200              1-2 hrs   \n2                     20           20 seconds   \n3                     20             1/2 hour   \n4                    900           15 minutes   \n...                  ...                  ...   \n88674             1200.0                 hour   \n88675                5.0            5 seconds   \n88676             1020.0           17 minutes   \n88677                0.0             2 nights   \n88678                0.0       still occuring   \n\n                                                comments date posted  \\\n0      This event took place in early fall around 194...   4/27/2004   \n1      1949 Lackland AFB&#44 TX.  Lights racing acros...  12/16/2005   \n2      Green/Orange circular disc over Chester&#44 En...   1/21/2008   \n3      My older brother and twin sister were leaving ...   1/17/2004   \n4      AS a Marine 1st Lt. flying an FJ4B fighter/att...   1/22/2004   \n...                                                  ...         ...   \n88674                                       Napa UFO&#44   9/30/2013   \n88675  Saw a five gold lit cicular craft moving fastl...   9/30/2013   \n88676  2 witnesses 2  miles apart&#44 Red &amp; White...   9/30/2013   \n88677  On September ninth my wife and i noticed stran...   9/30/2013   \n88678  Hovering object lit with red and white lights&...   9/30/2013   \n\n         latitude   longitude  \n0      29.8830556  -97.941111  \n1        29.38421  -98.581082  \n2            53.2   -2.916667  \n3      28.9783333  -96.645833  \n4      21.4180556 -157.803611  \n...           ...         ...  \n88674   38.297222 -122.284444  \n88675   38.901111  -77.265556  \n88676   35.652778  -97.477778  \n88677   34.376944  -82.695833  \n88678   26.121944  -80.143611  \n\n[88679 rows x 11 columns]",
      "text/html": "<div>\n<style scoped>\n    .dataframe tbody tr th:only-of-type {\n        vertical-align: middle;\n    }\n\n    .dataframe tbody tr th {\n        vertical-align: top;\n    }\n\n    .dataframe thead th {\n        text-align: right;\n    }\n</style>\n<table border=\"1\" class=\"dataframe\">\n  <thead>\n    <tr style=\"text-align: right;\">\n      <th></th>\n      <th>datetime</th>\n      <th>city</th>\n      <th>state</th>\n      <th>country</th>\n      <th>shape</th>\n      <th>duration (seconds)</th>\n      <th>duration (hours/min)</th>\n      <th>comments</th>\n      <th>date posted</th>\n      <th>latitude</th>\n      <th>longitude</th>\n    </tr>\n  </thead>\n  <tbody>\n    <tr>\n      <th>0</th>\n      <td>10/10/1949 20:30</td>\n      <td>san marcos</td>\n      <td>tx</td>\n      <td>us</td>\n      <td>cylinder</td>\n      <td>2700</td>\n      <td>45 minutes</td>\n      <td>This event took place in early fall around 194...</td>\n      <td>4/27/2004</td>\n      <td>29.8830556</td>\n      <td>-97.941111</td>\n    </tr>\n    <tr>\n      <th>1</th>\n      <td>10/10/1949 21:00</td>\n      <td>lackland afb</td>\n      <td>tx</td>\n      <td>NaN</td>\n      <td>light</td>\n      <td>7200</td>\n      <td>1-2 hrs</td>\n      <td>1949 Lackland AFB&amp;#44 TX.  Lights racing acros...</td>\n      <td>12/16/2005</td>\n      <td>29.38421</td>\n      <td>-98.581082</td>\n    </tr>\n    <tr>\n      <th>2</th>\n      <td>10/10/1955 17:00</td>\n      <td>chester (uk/england)</td>\n      <td>NaN</td>\n      <td>gb</td>\n      <td>circle</td>\n      <td>20</td>\n      <td>20 seconds</td>\n      <td>Green/Orange circular disc over Chester&amp;#44 En...</td>\n      <td>1/21/2008</td>\n      <td>53.2</td>\n      <td>-2.916667</td>\n    </tr>\n    <tr>\n      <th>3</th>\n      <td>10/10/1956 21:00</td>\n      <td>edna</td>\n      <td>tx</td>\n      <td>us</td>\n      <td>circle</td>\n      <td>20</td>\n      <td>1/2 hour</td>\n      <td>My older brother and twin sister were leaving ...</td>\n      <td>1/17/2004</td>\n      <td>28.9783333</td>\n      <td>-96.645833</td>\n    </tr>\n    <tr>\n      <th>4</th>\n      <td>10/10/1960 20:00</td>\n      <td>kaneohe</td>\n      <td>hi</td>\n      <td>us</td>\n      <td>light</td>\n      <td>900</td>\n      <td>15 minutes</td>\n      <td>AS a Marine 1st Lt. flying an FJ4B fighter/att...</td>\n      <td>1/22/2004</td>\n      <td>21.4180556</td>\n      <td>-157.803611</td>\n    </tr>\n    <tr>\n      <th>...</th>\n      <td>...</td>\n      <td>...</td>\n      <td>...</td>\n      <td>...</td>\n      <td>...</td>\n      <td>...</td>\n      <td>...</td>\n      <td>...</td>\n      <td>...</td>\n      <td>...</td>\n      <td>...</td>\n    </tr>\n    <tr>\n      <th>88674</th>\n      <td>9/9/2013 22:00</td>\n      <td>napa</td>\n      <td>ca</td>\n      <td>us</td>\n      <td>other</td>\n      <td>1200.0</td>\n      <td>hour</td>\n      <td>Napa UFO&amp;#44</td>\n      <td>9/30/2013</td>\n      <td>38.297222</td>\n      <td>-122.284444</td>\n    </tr>\n    <tr>\n      <th>88675</th>\n      <td>9/9/2013 22:20</td>\n      <td>vienna</td>\n      <td>va</td>\n      <td>us</td>\n      <td>circle</td>\n      <td>5.0</td>\n      <td>5 seconds</td>\n      <td>Saw a five gold lit cicular craft moving fastl...</td>\n      <td>9/30/2013</td>\n      <td>38.901111</td>\n      <td>-77.265556</td>\n    </tr>\n    <tr>\n      <th>88676</th>\n      <td>9/9/2013 23:00</td>\n      <td>edmond</td>\n      <td>ok</td>\n      <td>us</td>\n      <td>cigar</td>\n      <td>1020.0</td>\n      <td>17 minutes</td>\n      <td>2 witnesses 2  miles apart&amp;#44 Red &amp;amp; White...</td>\n      <td>9/30/2013</td>\n      <td>35.652778</td>\n      <td>-97.477778</td>\n    </tr>\n    <tr>\n      <th>88677</th>\n      <td>9/9/2013 23:00</td>\n      <td>starr</td>\n      <td>sc</td>\n      <td>us</td>\n      <td>diamond</td>\n      <td>0.0</td>\n      <td>2 nights</td>\n      <td>On September ninth my wife and i noticed stran...</td>\n      <td>9/30/2013</td>\n      <td>34.376944</td>\n      <td>-82.695833</td>\n    </tr>\n    <tr>\n      <th>88678</th>\n      <td>9/9/2013 23:30</td>\n      <td>ft. lauderdale</td>\n      <td>fl</td>\n      <td>us</td>\n      <td>oval</td>\n      <td>0.0</td>\n      <td>still occuring</td>\n      <td>Hovering object lit with red and white lights&amp;...</td>\n      <td>9/30/2013</td>\n      <td>26.121944</td>\n      <td>-80.143611</td>\n    </tr>\n  </tbody>\n</table>\n<p>88679 rows × 11 columns</p>\n</div>"
     },
     "execution_count": 1,
     "metadata": {},
     "output_type": "execute_result"
    }
   ],
   "source": [
    "import pandas as pd\n",
    "import numpy as np\n",
    "import warnings\n",
    "warnings.simplefilter(action='ignore', category=FutureWarning)\n",
    "\n",
    "df = pd.read_csv('complete.csv',on_bad_lines='skip')\n",
    "\n",
    "df = df.replace(r'^[nN]+[aA]+[nN]', np.nan)\n",
    "\n",
    "df"
   ],
   "metadata": {
    "collapsed": false
   }
  },
  {
   "cell_type": "markdown",
   "source": [
    "### Огромное количество данных\n",
    "Купер видит огромное количество данных, которые в данный момент находятся в одной таблицы. Нужно срочно что-то делать! А если точнее, поделить данные на таблицы."
   ],
   "metadata": {
    "collapsed": false
   }
  },
  {
   "cell_type": "code",
   "execution_count": 2,
   "outputs": [
    {
     "name": "stdout",
     "output_type": "stream",
     "text": [
      "Изначальное количество городов (записей в таблице): 88679\n",
      "Количество городов после сокращения (записей в таблице): 22006\n"
     ]
    }
   ],
   "source": [
    "temp_df = df.dropna(subset=[\"city\"])\n",
    "\n",
    "#Удаляем символы, которые используются в pandas'e\n",
    "temp_df[\"city\"] = temp_df[\"city\"].str.replace('\\(', ' ')\n",
    "temp_df[\"city\"] = temp_df[\"city\"].str.replace('\\)', '')\n",
    "temp_df[\"city\"] = temp_df[\"city\"].str.replace('\\>>', '')\n",
    "\n",
    "cities = temp_df[\"city\"].tolist()\n",
    "\n",
    "final_cities_list = [] #На самом деле, не совсем final, так как некоторые города\n",
    "# могут повторяться из-за тире и прочих символов, но пока что этого хватит\n",
    "\n",
    "for city in cities:\n",
    "    if not final_cities_list.__contains__(city):\n",
    "        final_cities_list.append(city)\n",
    "\n",
    "print(\"Изначальное количество городов (записей в таблице): \" + str(len(cities)))\n",
    "print(\"Количество городов после сокращения (записей в таблице): \" + str(len(final_cities_list)))"
   ],
   "metadata": {
    "collapsed": false
   }
  },
  {
   "cell_type": "code",
   "execution_count": 3,
   "outputs": [
    {
     "name": "stdout",
     "output_type": "stream",
     "text": [
      "Изначальное количество стран (записей в таблице): 76314\n",
      "Количество стран после сокращения (записей в таблице): 5\n"
     ]
    }
   ],
   "source": [
    "temp_df = df.dropna(subset=[\"country\"])\n",
    "\n",
    "countries = temp_df[\"country\"].tolist()\n",
    "\n",
    "final_countries_list = []\n",
    "\n",
    "for country in countries:\n",
    "    if not final_countries_list.__contains__(country):\n",
    "        final_countries_list.append(country)\n",
    "\n",
    "print(\"Изначальное количество стран (записей в таблице): \" + str(len(countries)))\n",
    "print(\"Количество стран после сокращения (записей в таблице): \" + str(len(final_countries_list)))"
   ],
   "metadata": {
    "collapsed": false
   }
  },
  {
   "cell_type": "code",
   "execution_count": 4,
   "outputs": [
    {
     "name": "stdout",
     "output_type": "stream",
     "text": [
      "Изначальное количество штатов (записей в таблице): 81270\n",
      "Количество штатов после сокращения (записей в таблице): 68\n"
     ]
    }
   ],
   "source": [
    "temp_df = df.dropna(subset=[\"state\"])\n",
    "\n",
    "states = temp_df[\"state\"].tolist()\n",
    "\n",
    "final_states_list = []\n",
    "\n",
    "for state in states:\n",
    "    if not final_states_list.__contains__(state):\n",
    "        final_states_list.append(state)\n",
    "\n",
    "print(\"Изначальное количество штатов (записей в таблице): \" + str(len(states)))\n",
    "print(\"Количество штатов после сокращения (записей в таблице): \" + str(len(final_states_list)))"
   ],
   "metadata": {
    "collapsed": false
   }
  },
  {
   "cell_type": "code",
   "execution_count": 5,
   "outputs": [
    {
     "name": "stdout",
     "output_type": "stream",
     "text": [
      "Изначальное количество форм НЛО (записей в таблице): 85757\n",
      "Количество форм НЛО после сокращения (записей в таблице): 29\n"
     ]
    }
   ],
   "source": [
    "temp_df = df.dropna(subset=[\"shape\"])\n",
    "\n",
    "shapes = temp_df[\"shape\"].tolist()\n",
    "\n",
    "final_shapes_list = []\n",
    "\n",
    "for shape in shapes:\n",
    "    if not final_shapes_list.__contains__(shape):\n",
    "        final_shapes_list.append(shape)\n",
    "\n",
    "print(\"Изначальное количество форм НЛО (записей в таблице): \" + str(len(shapes)))\n",
    "print(\"Количество форм НЛО после сокращения (записей в таблице): \" + str(len(final_shapes_list)))"
   ],
   "metadata": {
    "collapsed": false
   }
  },
  {
   "cell_type": "markdown",
   "source": [
    "Теперь можно и построить структуру БД, с которой будем работать в дальнейшем. Пока что не будем загружать данные, потому что еще не до конца их обработали.\n",
    "![](databasestructure.png)"
   ],
   "metadata": {
    "collapsed": false
   }
  },
  {
   "cell_type": "markdown",
   "source": [
    "(СУБД PostgreSQL, реализация и визуализация в приложении DataGrip)"
   ],
   "metadata": {
    "collapsed": false
   }
  }
 ],
 "metadata": {
  "kernelspec": {
   "display_name": "Python 3",
   "language": "python",
   "name": "python3"
  },
  "language_info": {
   "codemirror_mode": {
    "name": "ipython",
    "version": 2
   },
   "file_extension": ".py",
   "mimetype": "text/x-python",
   "name": "python",
   "nbconvert_exporter": "python",
   "pygments_lexer": "ipython2",
   "version": "2.7.6"
  }
 },
 "nbformat": 4,
 "nbformat_minor": 0
}
